{
 "cells": [
  {
   "cell_type": "code",
   "execution_count": 102,
   "metadata": {
    "id": "uepD7VUWGIiM"
   },
   "outputs": [],
   "source": [
    "from sklearn.preprocessing import LabelBinarizer\n",
    "from sklearn.metrics import classification_report\n",
    "from tensorflow.keras.models import Sequential\n",
    "from tensorflow.keras.layers import Dense\n",
    "from tensorflow.keras.optimizers import SGD\n",
    "from tensorflow.keras.datasets import cifar10\n",
    "from tensorflow.keras import backend as K\n",
    "import matplotlib.pyplot as plt\n",
    "import numpy as np"
   ]
  },
  {
   "cell_type": "code",
   "execution_count": 104,
   "metadata": {
    "id": "aBi8Ch8gGMET"
   },
   "outputs": [],
   "source": [
    "((X_train, Y_train), (X_test, Y_test)) = cifar10.load_data()\n",
    "X_train = X_train.reshape((X_train.shape[0], 32 * 32 * 3))\n",
    "X_test = X_test.reshape((X_test.shape[0], 32 * 32 * 3))\n",
    "X_train = X_train.astype(\"float32\") / 255.0\n",
    "X_test = X_test.astype(\"float32\") / 255.0"
   ]
  },
  {
   "cell_type": "code",
   "execution_count": 105,
   "metadata": {
    "id": "0jSz-728Gdgm"
   },
   "outputs": [],
   "source": [
    "lb = LabelBinarizer()\n",
    "Y_train = lb.fit_transform(Y_train)\n",
    "Y_test = lb.transform(Y_test)"
   ]
  },
  {
   "cell_type": "code",
   "execution_count": 106,
   "metadata": {
    "colab": {
     "base_uri": "https://localhost:8080/"
    },
    "id": "7fymefgcGup8",
    "outputId": "b7758957-7499-44cd-f3b3-e7e291f15be0"
   },
   "outputs": [
    {
     "data": {
      "text/plain": [
       "(50000, 3072)"
      ]
     },
     "execution_count": 106,
     "metadata": {},
     "output_type": "execute_result"
    }
   ],
   "source": [
    "X_train.shape"
   ]
  },
  {
   "cell_type": "code",
   "execution_count": 107,
   "metadata": {
    "colab": {
     "base_uri": "https://localhost:8080/"
    },
    "id": "I6CCFPz8Gx3W",
    "outputId": "60618747-dae6-4e86-f573-732c1c46e24d"
   },
   "outputs": [
    {
     "data": {
      "text/plain": [
       "(50000, 10)"
      ]
     },
     "execution_count": 107,
     "metadata": {},
     "output_type": "execute_result"
    }
   ],
   "source": [
    "Y_train.shape"
   ]
  },
  {
   "cell_type": "code",
   "execution_count": 108,
   "metadata": {
    "id": "XFBS7eiaGsWY"
   },
   "outputs": [],
   "source": [
    "model = Sequential()\n",
    "model.add(Dense(128, input_shape=(3072,), activation=\"sigmoid\"))\n",
    "model.add(Dense(64, activation=\"sigmoid\"))\n",
    "model.add(Dense(10, activation=\"softmax\"))"
   ]
  },
  {
   "cell_type": "code",
   "execution_count": 110,
   "metadata": {
    "colab": {
     "base_uri": "https://localhost:8080/"
    },
    "id": "jC1mbZmnG58l",
    "outputId": "06669072-8a12-40df-d09c-e6297896bfa9"
   },
   "outputs": [
    {
     "name": "stdout",
     "output_type": "stream",
     "text": [
      "Epoch 1/50\n",
      "391/391 [==============================] - 45s 11ms/step - loss: 2.2271 - accuracy: 0.2361 - val_loss: 2.2110 - val_accuracy: 0.2633\n",
      "Epoch 2/50\n",
      "391/391 [==============================] - 4s 11ms/step - loss: 2.1925 - accuracy: 0.2507 - val_loss: 2.1745 - val_accuracy: 0.2644\n",
      "Epoch 3/50\n",
      "391/391 [==============================] - 5s 14ms/step - loss: 2.1553 - accuracy: 0.2600 - val_loss: 2.1380 - val_accuracy: 0.2674\n",
      "Epoch 4/50\n",
      "391/391 [==============================] - 4s 11ms/step - loss: 2.1195 - accuracy: 0.2695 - val_loss: 2.1031 - val_accuracy: 0.2737\n",
      "Epoch 5/50\n",
      "391/391 [==============================] - 4s 11ms/step - loss: 2.0873 - accuracy: 0.2745 - val_loss: 2.0727 - val_accuracy: 0.2815\n",
      "Epoch 6/50\n",
      "391/391 [==============================] - 4s 11ms/step - loss: 2.0592 - accuracy: 0.2812 - val_loss: 2.0464 - val_accuracy: 0.2880\n",
      "Epoch 7/50\n",
      "391/391 [==============================] - 5s 14ms/step - loss: 2.0348 - accuracy: 0.2877 - val_loss: 2.0233 - val_accuracy: 0.2897\n",
      "Epoch 8/50\n",
      "391/391 [==============================] - 4s 11ms/step - loss: 2.0131 - accuracy: 0.2912 - val_loss: 2.0029 - val_accuracy: 0.2898\n",
      "Epoch 9/50\n",
      "391/391 [==============================] - 5s 12ms/step - loss: 1.9937 - accuracy: 0.2953 - val_loss: 1.9845 - val_accuracy: 0.2993\n",
      "Epoch 10/50\n",
      "391/391 [==============================] - 5s 12ms/step - loss: 1.9765 - accuracy: 0.3006 - val_loss: 1.9680 - val_accuracy: 0.2955\n",
      "Epoch 11/50\n",
      "391/391 [==============================] - 4s 11ms/step - loss: 1.9611 - accuracy: 0.3048 - val_loss: 1.9544 - val_accuracy: 0.3041\n",
      "Epoch 12/50\n",
      "391/391 [==============================] - 5s 12ms/step - loss: 1.9474 - accuracy: 0.3095 - val_loss: 1.9407 - val_accuracy: 0.3134\n",
      "Epoch 13/50\n",
      "391/391 [==============================] - 5s 12ms/step - loss: 1.9355 - accuracy: 0.3135 - val_loss: 1.9301 - val_accuracy: 0.3081\n",
      "Epoch 14/50\n",
      "391/391 [==============================] - 6s 15ms/step - loss: 1.9248 - accuracy: 0.3175 - val_loss: 1.9192 - val_accuracy: 0.3180\n",
      "Epoch 15/50\n",
      "391/391 [==============================] - 4s 11ms/step - loss: 1.9152 - accuracy: 0.3185 - val_loss: 1.9108 - val_accuracy: 0.3230\n",
      "Epoch 16/50\n",
      "391/391 [==============================] - 4s 11ms/step - loss: 1.9066 - accuracy: 0.3222 - val_loss: 1.9028 - val_accuracy: 0.3241\n",
      "Epoch 17/50\n",
      "391/391 [==============================] - 5s 12ms/step - loss: 1.8991 - accuracy: 0.3262 - val_loss: 1.8950 - val_accuracy: 0.3282\n",
      "Epoch 18/50\n",
      "391/391 [==============================] - 4s 11ms/step - loss: 1.8920 - accuracy: 0.3287 - val_loss: 1.8890 - val_accuracy: 0.3296\n",
      "Epoch 19/50\n",
      "391/391 [==============================] - 4s 11ms/step - loss: 1.8854 - accuracy: 0.3310 - val_loss: 1.8821 - val_accuracy: 0.3297\n",
      "Epoch 20/50\n",
      "391/391 [==============================] - 4s 11ms/step - loss: 1.8792 - accuracy: 0.3335 - val_loss: 1.8764 - val_accuracy: 0.3361\n",
      "Epoch 21/50\n",
      "391/391 [==============================] - 4s 11ms/step - loss: 1.8733 - accuracy: 0.3376 - val_loss: 1.8705 - val_accuracy: 0.3324\n",
      "Epoch 22/50\n",
      "391/391 [==============================] - 4s 11ms/step - loss: 1.8677 - accuracy: 0.3393 - val_loss: 1.8651 - val_accuracy: 0.3384\n",
      "Epoch 23/50\n",
      "391/391 [==============================] - 4s 11ms/step - loss: 1.8623 - accuracy: 0.3405 - val_loss: 1.8600 - val_accuracy: 0.3403\n",
      "Epoch 24/50\n",
      "391/391 [==============================] - 4s 11ms/step - loss: 1.8570 - accuracy: 0.3436 - val_loss: 1.8548 - val_accuracy: 0.3436\n",
      "Epoch 25/50\n",
      "391/391 [==============================] - 4s 11ms/step - loss: 1.8517 - accuracy: 0.3453 - val_loss: 1.8496 - val_accuracy: 0.3459\n",
      "Epoch 26/50\n",
      "391/391 [==============================] - 6s 15ms/step - loss: 1.8468 - accuracy: 0.3465 - val_loss: 1.8450 - val_accuracy: 0.3504\n",
      "Epoch 27/50\n",
      "391/391 [==============================] - 4s 11ms/step - loss: 1.8417 - accuracy: 0.3493 - val_loss: 1.8391 - val_accuracy: 0.3490\n",
      "Epoch 28/50\n",
      "391/391 [==============================] - 4s 11ms/step - loss: 1.8370 - accuracy: 0.3516 - val_loss: 1.8349 - val_accuracy: 0.3521\n",
      "Epoch 29/50\n",
      "391/391 [==============================] - 4s 11ms/step - loss: 1.8322 - accuracy: 0.3508 - val_loss: 1.8301 - val_accuracy: 0.3534\n",
      "Epoch 30/50\n",
      "391/391 [==============================] - 4s 11ms/step - loss: 1.8275 - accuracy: 0.3545 - val_loss: 1.8256 - val_accuracy: 0.3524\n",
      "Epoch 31/50\n",
      "391/391 [==============================] - 4s 11ms/step - loss: 1.8230 - accuracy: 0.3556 - val_loss: 1.8207 - val_accuracy: 0.3564\n",
      "Epoch 32/50\n",
      "391/391 [==============================] - 4s 11ms/step - loss: 1.8184 - accuracy: 0.3574 - val_loss: 1.8170 - val_accuracy: 0.3599\n",
      "Epoch 33/50\n",
      "391/391 [==============================] - 4s 11ms/step - loss: 1.8140 - accuracy: 0.3580 - val_loss: 1.8120 - val_accuracy: 0.3621\n",
      "Epoch 34/50\n",
      "391/391 [==============================] - 4s 11ms/step - loss: 1.8098 - accuracy: 0.3597 - val_loss: 1.8077 - val_accuracy: 0.3620\n",
      "Epoch 35/50\n",
      "391/391 [==============================] - 4s 11ms/step - loss: 1.8057 - accuracy: 0.3619 - val_loss: 1.8044 - val_accuracy: 0.3644\n",
      "Epoch 36/50\n",
      "391/391 [==============================] - 4s 11ms/step - loss: 1.8016 - accuracy: 0.3620 - val_loss: 1.8003 - val_accuracy: 0.3654\n",
      "Epoch 37/50\n",
      "391/391 [==============================] - 4s 11ms/step - loss: 1.7976 - accuracy: 0.3637 - val_loss: 1.7957 - val_accuracy: 0.3653\n",
      "Epoch 38/50\n",
      "391/391 [==============================] - 6s 14ms/step - loss: 1.7935 - accuracy: 0.3655 - val_loss: 1.7933 - val_accuracy: 0.3679\n",
      "Epoch 39/50\n",
      "391/391 [==============================] - 4s 11ms/step - loss: 1.7899 - accuracy: 0.3669 - val_loss: 1.7890 - val_accuracy: 0.3697\n",
      "Epoch 40/50\n",
      "391/391 [==============================] - 4s 11ms/step - loss: 1.7860 - accuracy: 0.3676 - val_loss: 1.7840 - val_accuracy: 0.3714\n",
      "Epoch 41/50\n",
      "391/391 [==============================] - 4s 11ms/step - loss: 1.7824 - accuracy: 0.3688 - val_loss: 1.7806 - val_accuracy: 0.3756\n",
      "Epoch 42/50\n",
      "391/391 [==============================] - 4s 11ms/step - loss: 1.7785 - accuracy: 0.3701 - val_loss: 1.7768 - val_accuracy: 0.3733\n",
      "Epoch 43/50\n",
      "391/391 [==============================] - 4s 11ms/step - loss: 1.7751 - accuracy: 0.3727 - val_loss: 1.7728 - val_accuracy: 0.3753\n",
      "Epoch 44/50\n",
      "391/391 [==============================] - 4s 11ms/step - loss: 1.7716 - accuracy: 0.3736 - val_loss: 1.7690 - val_accuracy: 0.3773\n",
      "Epoch 45/50\n",
      "391/391 [==============================] - 4s 11ms/step - loss: 1.7680 - accuracy: 0.3743 - val_loss: 1.7655 - val_accuracy: 0.3788\n",
      "Epoch 46/50\n",
      "391/391 [==============================] - 4s 11ms/step - loss: 1.7644 - accuracy: 0.3748 - val_loss: 1.7621 - val_accuracy: 0.3800\n",
      "Epoch 47/50\n",
      "391/391 [==============================] - 4s 11ms/step - loss: 1.7609 - accuracy: 0.3775 - val_loss: 1.7584 - val_accuracy: 0.3815\n",
      "Epoch 48/50\n",
      "391/391 [==============================] - 4s 11ms/step - loss: 1.7574 - accuracy: 0.3784 - val_loss: 1.7565 - val_accuracy: 0.3796\n",
      "Epoch 49/50\n",
      "391/391 [==============================] - 4s 11ms/step - loss: 1.7541 - accuracy: 0.3790 - val_loss: 1.7519 - val_accuracy: 0.3817\n",
      "Epoch 50/50\n",
      "391/391 [==============================] - 6s 14ms/step - loss: 1.7507 - accuracy: 0.3815 - val_loss: 1.7481 - val_accuracy: 0.3851\n"
     ]
    }
   ],
   "source": [
    "sgd = SGD(0.01)\n",
    "epochs=50\n",
    "model.compile(loss=\"categorical_crossentropy\", optimizer=sgd,metrics=[\"accuracy\"])\n",
    "H = model.fit(X_train, Y_train, validation_data=(X_test, Y_test),epochs=epochs, batch_size=128)"
   ]
  },
  {
   "cell_type": "code",
   "execution_count": 111,
   "metadata": {
    "colab": {
     "base_uri": "https://localhost:8080/"
    },
    "id": "1EMa95eJHLFg",
    "outputId": "44703674-3a24-4fa8-8cd3-b8c8791f0bc3"
   },
   "outputs": [
    {
     "name": "stdout",
     "output_type": "stream",
     "text": [
      "79/79 [==============================] - 0s 5ms/step\n",
      "              precision    recall  f1-score   support\n",
      "\n",
      "           0       0.42      0.49      0.45      1000\n",
      "           1       0.42      0.46      0.44      1000\n",
      "           2       0.26      0.18      0.21      1000\n",
      "           3       0.28      0.19      0.23      1000\n",
      "           4       0.35      0.32      0.33      1000\n",
      "           5       0.34      0.35      0.35      1000\n",
      "           6       0.37      0.49      0.42      1000\n",
      "           7       0.44      0.37      0.40      1000\n",
      "           8       0.45      0.50      0.48      1000\n",
      "           9       0.45      0.49      0.47      1000\n",
      "\n",
      "    accuracy                           0.39     10000\n",
      "   macro avg       0.38      0.39      0.38     10000\n",
      "weighted avg       0.38      0.39      0.38     10000\n",
      "\n"
     ]
    }
   ],
   "source": [
    "predictions = model.predict(X_test, batch_size=128)\n",
    "print(classification_report(Y_test.argmax(axis=1),predictions.argmax(axis=1),target_names=[str(x) for x in lb.classes_]))"
   ]
  },
  {
   "cell_type": "code",
   "execution_count": 112,
   "metadata": {
    "colab": {
     "base_uri": "https://localhost:8080/",
     "height": 316
    },
    "id": "xFklgmSKIqd4",
    "outputId": "9182e455-f1b8-48ed-f219-0d359b009eaf"
   },
   "outputs": [
    {
     "data": {
      "text/plain": [
       "<matplotlib.legend.Legend at 0x7f20eb998790>"
      ]
     },
     "execution_count": 112,
     "metadata": {},
     "output_type": "execute_result"
    },
    {
     "data": {
      "image/png": "[encoded data removed]",
      "text/plain": [
       "<Figure size 432x288 with 1 Axes>"
      ]
     },
     "metadata": {},
     "output_type": "display_data"
    }
   ],
   "source": [
    "plt.style.use(\"ggplot\")\n",
    "plt.figure()\n",
    "plt.plot(np.arange(0, epochs), H.history[\"loss\"], label=\"train_loss\")\n",
    "plt.plot(np.arange(0, epochs), H.history[\"val_loss\"], label=\"val_loss\")\n",
    "plt.plot(np.arange(0, epochs), H.history[\"accuracy\"], label=\"train_acc\")\n",
    "plt.plot(np.arange(0, epochs), H.history[\"val_accuracy\"], label=\"val_acc\")\n",
    "plt.title(\"Training Loss and Accuracy\")\n",
    "plt.xlabel(\"Epoch #\")\n",
    "plt.ylabel(\"Loss/Accuracy\")\n",
    "plt.legend()"
   ]
  }
 ],
 "metadata": {
  "colab": {
   "collapsed_sections": [],
   "provenance": []
  },
  "kernelspec": {
   "display_name": "Python 3 (ipykernel)",
   "language": "python",
   "name": "python3"
  },
  "language_info": {
   "codemirror_mode": {
    "name": "ipython",
    "version": 3
   },
   "file_extension": ".py",
   "mimetype": "text/x-python",
   "name": "python",
   "nbconvert_exporter": "python",
   "pygments_lexer": "ipython3",
   "version": "3.10.4"
  }
 },
 "nbformat": 4,
 "nbformat_minor": 1
}
