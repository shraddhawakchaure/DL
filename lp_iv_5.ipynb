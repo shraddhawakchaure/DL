{
  "nbformat": 4,
  "nbformat_minor": 0,
  "metadata": {
    "colab": {
      "provenance": []
    },
    "kernelspec": {
      "name": "python3",
      "display_name": "Python 3"
    },
    "language_info": {
      "name": "python"
    }
  },
  "cells": [
    {
      "cell_type": "code",
      "execution_count": 25,
      "metadata": {
        "id": "KmEN-qn3eSBx"
      },
      "outputs": [],
      "source": [
        "import numpy as np\n",
        "import pandas as pd"
      ]
    },
    {
      "cell_type": "code",
      "source": [
        "!wget -O creditfraud.zip https://www.dropbox.com/s/tl20yp9bcl56oxt/creditcardfraud.zip?dl=0"
      ],
      "metadata": {
        "colab": {
          "base_uri": "https://localhost:8080/"
        },
        "id": "boFwMCOhecor",
        "outputId": "d749d991-d144-4080-cb05-01304cd044ad"
      },
      "execution_count": 26,
      "outputs": [
        {
          "output_type": "stream",
          "name": "stdout",
          "text": [
            "--2022-11-13 15:43:27--  https://www.dropbox.com/s/tl20yp9bcl56oxt/creditcardfraud.zip?dl=0\n",
            "Resolving www.dropbox.com (www.dropbox.com)... 162.125.3.18, 2620:100:6018:18::a27d:312\n",
            "Connecting to www.dropbox.com (www.dropbox.com)|162.125.3.18|:443... connected.\n",
            "HTTP request sent, awaiting response... 302 Found\n",
            "Location: /s/raw/tl20yp9bcl56oxt/creditcardfraud.zip [following]\n",
            "--2022-11-13 15:43:27--  https://www.dropbox.com/s/raw/tl20yp9bcl56oxt/creditcardfraud.zip\n",
            "Reusing existing connection to www.dropbox.com:443.\n",
            "HTTP request sent, awaiting response... 302 Found\n",
            "Location: https://uca11494d8556ab2e2b985bf4190.dl.dropboxusercontent.com/cd/0/inline/Bwq9l1aKgjp8Og3TEECx8dTuI29G70pRAp0OkYhrkIF4pvJA_vTQrxhzK0T_SasCqT2umcnw2PK4wXOKF4VHM2MfpfjsPe2IkGozNe55kwV-bnycaWMefFd9PHP44NRQ_R0aR4of046VFJDyGwgQVcsgsu2TdwLfXf0DkyujwtN4gA/file# [following]\n",
            "--2022-11-13 15:43:28--  https://uca11494d8556ab2e2b985bf4190.dl.dropboxusercontent.com/cd/0/inline/Bwq9l1aKgjp8Og3TEECx8dTuI29G70pRAp0OkYhrkIF4pvJA_vTQrxhzK0T_SasCqT2umcnw2PK4wXOKF4VHM2MfpfjsPe2IkGozNe55kwV-bnycaWMefFd9PHP44NRQ_R0aR4of046VFJDyGwgQVcsgsu2TdwLfXf0DkyujwtN4gA/file\n",
            "Resolving uca11494d8556ab2e2b985bf4190.dl.dropboxusercontent.com (uca11494d8556ab2e2b985bf4190.dl.dropboxusercontent.com)... 162.125.3.15, 2620:100:6019:15::a27d:40f\n",
            "Connecting to uca11494d8556ab2e2b985bf4190.dl.dropboxusercontent.com (uca11494d8556ab2e2b985bf4190.dl.dropboxusercontent.com)|162.125.3.15|:443... connected.\n",
            "HTTP request sent, awaiting response... 302 Found\n",
            "Location: /cd/0/inline2/BwoeoxdyLu5Cq8jyO9G36ezNY5rakGHlH5YV0L5sWolBy_zJVXPD_QrSvV-80q7zXpOl3uA0VJcv0Nt_cKu9g_5Eb-iYTNGbZJR8laqGokMF3qNjnpieIKMORORtNsivxI_45ecHnn8V2otOz_YZADSIITDPnfQFFeN6k0_hGnJO6nl9uSPRhjmH-Uz3mu0-vxgjU-qXvfSLiOhuqil0r3_7jOWlBJyxlkLaXBvyXr4O0DhciXj9pc556mpMYxlioScBCnBq4yfogRdU49lOv-ZaSiz8iyMPcfw0qKfnn8tPVCC6gY9wDfqhBZFe_WwrdtPrjP_O1kOI3MqDg6nEtUtEmO8Ug5gkz5N32XtYh2f3di6WuLfwKo-WEXgyF02V98M6m8Avyj3O3Sn9rKDltYb8fyc4EB6PdSI5d0uXIRpC-A/file [following]\n",
            "--2022-11-13 15:43:28--  https://uca11494d8556ab2e2b985bf4190.dl.dropboxusercontent.com/cd/0/inline2/BwoeoxdyLu5Cq8jyO9G36ezNY5rakGHlH5YV0L5sWolBy_zJVXPD_QrSvV-80q7zXpOl3uA0VJcv0Nt_cKu9g_5Eb-iYTNGbZJR8laqGokMF3qNjnpieIKMORORtNsivxI_45ecHnn8V2otOz_YZADSIITDPnfQFFeN6k0_hGnJO6nl9uSPRhjmH-Uz3mu0-vxgjU-qXvfSLiOhuqil0r3_7jOWlBJyxlkLaXBvyXr4O0DhciXj9pc556mpMYxlioScBCnBq4yfogRdU49lOv-ZaSiz8iyMPcfw0qKfnn8tPVCC6gY9wDfqhBZFe_WwrdtPrjP_O1kOI3MqDg6nEtUtEmO8Ug5gkz5N32XtYh2f3di6WuLfwKo-WEXgyF02V98M6m8Avyj3O3Sn9rKDltYb8fyc4EB6PdSI5d0uXIRpC-A/file\n",
            "Reusing existing connection to uca11494d8556ab2e2b985bf4190.dl.dropboxusercontent.com:443.\n",
            "HTTP request sent, awaiting response... 200 OK\n",
            "Length: 69155672 (66M) [application/zip]\n",
            "Saving to: ‘creditfraud.zip’\n",
            "\n",
            "creditfraud.zip     100%[===================>]  65.95M  95.6MB/s    in 0.7s    \n",
            "\n",
            "2022-11-13 15:43:29 (95.6 MB/s) - ‘creditfraud.zip’ saved [69155672/69155672]\n",
            "\n"
          ]
        }
      ]
    },
    {
      "cell_type": "code",
      "source": [
        "!unzip creditfraud.zip"
      ],
      "metadata": {
        "colab": {
          "base_uri": "https://localhost:8080/"
        },
        "id": "erma2Fdkeq9l",
        "outputId": "25390728-9d06-4ff2-d18c-5af29e678f88"
      },
      "execution_count": 27,
      "outputs": [
        {
          "output_type": "stream",
          "name": "stdout",
          "text": [
            "Archive:  creditfraud.zip\n",
            "replace creditcard.csv? [y]es, [n]o, [A]ll, [N]one, [r]ename: n\n"
          ]
        }
      ]
    },
    {
      "cell_type": "code",
      "source": [
        "dat=pd.read_csv('creditcard.csv')\n",
        "dat.head()"
      ],
      "metadata": {
        "colab": {
          "base_uri": "https://localhost:8080/",
          "height": 300
        },
        "id": "v8BKL_hKfnHo",
        "outputId": "888ceb5e-716c-4d49-9168-e9f9f6d91ded"
      },
      "execution_count": 28,
      "outputs": [
        {
          "output_type": "execute_result",
          "data": {
            "text/plain": [
              "   Time        V1        V2        V3        V4        V5        V6        V7  \\\n",
              "0   0.0 -1.359807 -0.072781  2.536347  1.378155 -0.338321  0.462388  0.239599   \n",
              "1   0.0  1.191857  0.266151  0.166480  0.448154  0.060018 -0.082361 -0.078803   \n",
              "2   1.0 -1.358354 -1.340163  1.773209  0.379780 -0.503198  1.800499  0.791461   \n",
              "3   1.0 -0.966272 -0.185226  1.792993 -0.863291 -0.010309  1.247203  0.237609   \n",
              "4   2.0 -1.158233  0.877737  1.548718  0.403034 -0.407193  0.095921  0.592941   \n",
              "\n",
              "         V8        V9  ...       V21       V22       V23       V24       V25  \\\n",
              "0  0.098698  0.363787  ... -0.018307  0.277838 -0.110474  0.066928  0.128539   \n",
              "1  0.085102 -0.255425  ... -0.225775 -0.638672  0.101288 -0.339846  0.167170   \n",
              "2  0.247676 -1.514654  ...  0.247998  0.771679  0.909412 -0.689281 -0.327642   \n",
              "3  0.377436 -1.387024  ... -0.108300  0.005274 -0.190321 -1.175575  0.647376   \n",
              "4 -0.270533  0.817739  ... -0.009431  0.798278 -0.137458  0.141267 -0.206010   \n",
              "\n",
              "        V26       V27       V28  Amount  Class  \n",
              "0 -0.189115  0.133558 -0.021053  149.62      0  \n",
              "1  0.125895 -0.008983  0.014724    2.69      0  \n",
              "2 -0.139097 -0.055353 -0.059752  378.66      0  \n",
              "3 -0.221929  0.062723  0.061458  123.50      0  \n",
              "4  0.502292  0.219422  0.215153   69.99      0  \n",
              "\n",
              "[5 rows x 31 columns]"
            ],
            "text/html": [
              "\n",
              "  <div id=\"df-0dadc08c-7d44-4ce9-93cf-041f9fb1bac3\">\n",
              "    <div class=\"colab-df-container\">\n",
              "      <div>\n",
              "<style scoped>\n",
              "    .dataframe tbody tr th:only-of-type {\n",
              "        vertical-align: middle;\n",
              "    }\n",
              "\n",
              "    .dataframe tbody tr th {\n",
              "        vertical-align: top;\n",
              "    }\n",
              "\n",
              "    .dataframe thead th {\n",
              "        text-align: right;\n",
              "    }\n",
              "</style>\n",
              "<table border=\"1\" class=\"dataframe\">\n",
              "  <thead>\n",
              "    <tr style=\"text-align: right;\">\n",
              "      <th></th>\n",
              "      <th>Time</th>\n",
              "      <th>V1</th>\n",
              "      <th>V2</th>\n",
              "      <th>V3</th>\n",
              "      <th>V4</th>\n",
              "      <th>V5</th>\n",
              "      <th>V6</th>\n",
              "      <th>V7</th>\n",
              "      <th>V8</th>\n",
              "      <th>V9</th>\n",
              "      <th>...</th>\n",
              "      <th>V21</th>\n",
              "      <th>V22</th>\n",
              "      <th>V23</th>\n",
              "      <th>V24</th>\n",
              "      <th>V25</th>\n",
              "      <th>V26</th>\n",
              "      <th>V27</th>\n",
              "      <th>V28</th>\n",
              "      <th>Amount</th>\n",
              "      <th>Class</th>\n",
              "    </tr>\n",
              "  </thead>\n",
              "  <tbody>\n",
              "    <tr>\n",
              "      <th>0</th>\n",
              "      <td>0.0</td>\n",
              "      <td>-1.359807</td>\n",
              "      <td>-0.072781</td>\n",
              "      <td>2.536347</td>\n",
              "      <td>1.378155</td>\n",
              "      <td>-0.338321</td>\n",
              "      <td>0.462388</td>\n",
              "      <td>0.239599</td>\n",
              "      <td>0.098698</td>\n",
              "      <td>0.363787</td>\n",
              "      <td>...</td>\n",
              "      <td>-0.018307</td>\n",
              "      <td>0.277838</td>\n",
              "      <td>-0.110474</td>\n",
              "      <td>0.066928</td>\n",
              "      <td>0.128539</td>\n",
              "      <td>-0.189115</td>\n",
              "      <td>0.133558</td>\n",
              "      <td>-0.021053</td>\n",
              "      <td>149.62</td>\n",
              "      <td>0</td>\n",
              "    </tr>\n",
              "    <tr>\n",
              "      <th>1</th>\n",
              "      <td>0.0</td>\n",
              "      <td>1.191857</td>\n",
              "      <td>0.266151</td>\n",
              "      <td>0.166480</td>\n",
              "      <td>0.448154</td>\n",
              "      <td>0.060018</td>\n",
              "      <td>-0.082361</td>\n",
              "      <td>-0.078803</td>\n",
              "      <td>0.085102</td>\n",
              "      <td>-0.255425</td>\n",
              "      <td>...</td>\n",
              "      <td>-0.225775</td>\n",
              "      <td>-0.638672</td>\n",
              "      <td>0.101288</td>\n",
              "      <td>-0.339846</td>\n",
              "      <td>0.167170</td>\n",
              "      <td>0.125895</td>\n",
              "      <td>-0.008983</td>\n",
              "      <td>0.014724</td>\n",
              "      <td>2.69</td>\n",
              "      <td>0</td>\n",
              "    </tr>\n",
              "    <tr>\n",
              "      <th>2</th>\n",
              "      <td>1.0</td>\n",
              "      <td>-1.358354</td>\n",
              "      <td>-1.340163</td>\n",
              "      <td>1.773209</td>\n",
              "      <td>0.379780</td>\n",
              "      <td>-0.503198</td>\n",
              "      <td>1.800499</td>\n",
              "      <td>0.791461</td>\n",
              "      <td>0.247676</td>\n",
              "      <td>-1.514654</td>\n",
              "      <td>...</td>\n",
              "      <td>0.247998</td>\n",
              "      <td>0.771679</td>\n",
              "      <td>0.909412</td>\n",
              "      <td>-0.689281</td>\n",
              "      <td>-0.327642</td>\n",
              "      <td>-0.139097</td>\n",
              "      <td>-0.055353</td>\n",
              "      <td>-0.059752</td>\n",
              "      <td>378.66</td>\n",
              "      <td>0</td>\n",
              "    </tr>\n",
              "    <tr>\n",
              "      <th>3</th>\n",
              "      <td>1.0</td>\n",
              "      <td>-0.966272</td>\n",
              "      <td>-0.185226</td>\n",
              "      <td>1.792993</td>\n",
              "      <td>-0.863291</td>\n",
              "      <td>-0.010309</td>\n",
              "      <td>1.247203</td>\n",
              "      <td>0.237609</td>\n",
              "      <td>0.377436</td>\n",
              "      <td>-1.387024</td>\n",
              "      <td>...</td>\n",
              "      <td>-0.108300</td>\n",
              "      <td>0.005274</td>\n",
              "      <td>-0.190321</td>\n",
              "      <td>-1.175575</td>\n",
              "      <td>0.647376</td>\n",
              "      <td>-0.221929</td>\n",
              "      <td>0.062723</td>\n",
              "      <td>0.061458</td>\n",
              "      <td>123.50</td>\n",
              "      <td>0</td>\n",
              "    </tr>\n",
              "    <tr>\n",
              "      <th>4</th>\n",
              "      <td>2.0</td>\n",
              "      <td>-1.158233</td>\n",
              "      <td>0.877737</td>\n",
              "      <td>1.548718</td>\n",
              "      <td>0.403034</td>\n",
              "      <td>-0.407193</td>\n",
              "      <td>0.095921</td>\n",
              "      <td>0.592941</td>\n",
              "      <td>-0.270533</td>\n",
              "      <td>0.817739</td>\n",
              "      <td>...</td>\n",
              "      <td>-0.009431</td>\n",
              "      <td>0.798278</td>\n",
              "      <td>-0.137458</td>\n",
              "      <td>0.141267</td>\n",
              "      <td>-0.206010</td>\n",
              "      <td>0.502292</td>\n",
              "      <td>0.219422</td>\n",
              "      <td>0.215153</td>\n",
              "      <td>69.99</td>\n",
              "      <td>0</td>\n",
              "    </tr>\n",
              "  </tbody>\n",
              "</table>\n",
              "<p>5 rows × 31 columns</p>\n",
              "</div>\n",
              "      <button class=\"colab-df-convert\" onclick=\"convertToInteractive('df-0dadc08c-7d44-4ce9-93cf-041f9fb1bac3')\"\n",
              "              title=\"Convert this dataframe to an interactive table.\"\n",
              "              style=\"display:none;\">\n",
              "        \n",
              "  <svg xmlns=\"http://www.w3.org/2000/svg\" height=\"24px\"viewBox=\"0 0 24 24\"\n",
              "       width=\"24px\">\n",
              "    <path d=\"M0 0h24v24H0V0z\" fill=\"none\"/>\n",
              "    <path d=\"M18.56 5.44l.94 2.06.94-2.06 2.06-.94-2.06-.94-.94-2.06-.94 2.06-2.06.94zm-11 1L8.5 8.5l.94-2.06 2.06-.94-2.06-.94L8.5 2.5l-.94 2.06-2.06.94zm10 10l.94 2.06.94-2.06 2.06-.94-2.06-.94-.94-2.06-.94 2.06-2.06.94z\"/><path d=\"M17.41 7.96l-1.37-1.37c-.4-.4-.92-.59-1.43-.59-.52 0-1.04.2-1.43.59L10.3 9.45l-7.72 7.72c-.78.78-.78 2.05 0 2.83L4 21.41c.39.39.9.59 1.41.59.51 0 1.02-.2 1.41-.59l7.78-7.78 2.81-2.81c.8-.78.8-2.07 0-2.86zM5.41 20L4 18.59l7.72-7.72 1.47 1.35L5.41 20z\"/>\n",
              "  </svg>\n",
              "      </button>\n",
              "      \n",
              "  <style>\n",
              "    .colab-df-container {\n",
              "      display:flex;\n",
              "      flex-wrap:wrap;\n",
              "      gap: 12px;\n",
              "    }\n",
              "\n",
              "    .colab-df-convert {\n",
              "      background-color: #E8F0FE;\n",
              "      border: none;\n",
              "      border-radius: 50%;\n",
              "      cursor: pointer;\n",
              "      display: none;\n",
              "      fill: #1967D2;\n",
              "      height: 32px;\n",
              "      padding: 0 0 0 0;\n",
              "      width: 32px;\n",
              "    }\n",
              "\n",
              "    .colab-df-convert:hover {\n",
              "      background-color: #E2EBFA;\n",
              "      box-shadow: 0px 1px 2px rgba(60, 64, 67, 0.3), 0px 1px 3px 1px rgba(60, 64, 67, 0.15);\n",
              "      fill: #174EA6;\n",
              "    }\n",
              "\n",
              "    [theme=dark] .colab-df-convert {\n",
              "      background-color: #3B4455;\n",
              "      fill: #D2E3FC;\n",
              "    }\n",
              "\n",
              "    [theme=dark] .colab-df-convert:hover {\n",
              "      background-color: #434B5C;\n",
              "      box-shadow: 0px 1px 3px 1px rgba(0, 0, 0, 0.15);\n",
              "      filter: drop-shadow(0px 1px 2px rgba(0, 0, 0, 0.3));\n",
              "      fill: #FFFFFF;\n",
              "    }\n",
              "  </style>\n",
              "\n",
              "      <script>\n",
              "        const buttonEl =\n",
              "          document.querySelector('#df-0dadc08c-7d44-4ce9-93cf-041f9fb1bac3 button.colab-df-convert');\n",
              "        buttonEl.style.display =\n",
              "          google.colab.kernel.accessAllowed ? 'block' : 'none';\n",
              "\n",
              "        async function convertToInteractive(key) {\n",
              "          const element = document.querySelector('#df-0dadc08c-7d44-4ce9-93cf-041f9fb1bac3');\n",
              "          const dataTable =\n",
              "            await google.colab.kernel.invokeFunction('convertToInteractive',\n",
              "                                                     [key], {});\n",
              "          if (!dataTable) return;\n",
              "\n",
              "          const docLinkHtml = 'Like what you see? Visit the ' +\n",
              "            '<a target=\"_blank\" href=https://colab.research.google.com/notebooks/data_table.ipynb>data table notebook</a>'\n",
              "            + ' to learn more about interactive tables.';\n",
              "          element.innerHTML = '';\n",
              "          dataTable['output_type'] = 'display_data';\n",
              "          await google.colab.output.renderOutput(dataTable, element);\n",
              "          const docLink = document.createElement('div');\n",
              "          docLink.innerHTML = docLinkHtml;\n",
              "          element.appendChild(docLink);\n",
              "        }\n",
              "      </script>\n",
              "    </div>\n",
              "  </div>\n",
              "  "
            ]
          },
          "metadata": {},
          "execution_count": 28
        }
      ]
    },
    {
      "cell_type": "code",
      "source": [
        "from sklearn.preprocessing import StandardScaler\n",
        "dat = dat.drop([ 'Time'], 1)\n",
        "dat['Amount'] = StandardScaler().fit_transform(dat['Amount'].values.reshape(-1, 1))"
      ],
      "metadata": {
        "colab": {
          "base_uri": "https://localhost:8080/"
        },
        "id": "zU6H9qHEfZw-",
        "outputId": "99b07ec5-9b16-4f8f-ad3d-354f6c789fb1"
      },
      "execution_count": 29,
      "outputs": [
        {
          "output_type": "stream",
          "name": "stderr",
          "text": [
            "/usr/local/lib/python3.7/dist-packages/ipykernel_launcher.py:2: FutureWarning: In a future version of pandas all arguments of DataFrame.drop except for the argument 'labels' will be keyword-only\n",
            "  \n"
          ]
        }
      ]
    },
    {
      "cell_type": "code",
      "source": [
        "from sklearn.model_selection import train_test_split"
      ],
      "metadata": {
        "id": "OaH5FjI_f69I"
      },
      "execution_count": 30,
      "outputs": []
    },
    {
      "cell_type": "code",
      "source": [
        "X_train, X_test, y_train, y_test = train_test_split(dat.drop('Class',1) , dat['Class'], test_size=0.5, random_state=0)"
      ],
      "metadata": {
        "colab": {
          "base_uri": "https://localhost:8080/"
        },
        "id": "vVsKKjxrf3eq",
        "outputId": "076c98db-ae5e-4631-d69d-b837567fc062"
      },
      "execution_count": 31,
      "outputs": [
        {
          "output_type": "stream",
          "name": "stderr",
          "text": [
            "/usr/local/lib/python3.7/dist-packages/ipykernel_launcher.py:1: FutureWarning: In a future version of pandas all arguments of DataFrame.drop except for the argument 'labels' will be keyword-only\n",
            "  \"\"\"Entry point for launching an IPython kernel.\n"
          ]
        }
      ]
    },
    {
      "cell_type": "code",
      "source": [
        "from sklearn.preprocessing import MinMaxScaler\n",
        "min_max_scaler = MinMaxScaler(feature_range=(0, 1))\n",
        "X_train_scaled = min_max_scaler.fit_transform(X_train.copy())\n",
        "X_test_scaled = min_max_scaler.transform(X_test.copy())"
      ],
      "metadata": {
        "id": "d7q8pcYBgQuL"
      },
      "execution_count": 32,
      "outputs": []
    },
    {
      "cell_type": "code",
      "source": [
        "from tensorflow.keras import Model, Sequential\n",
        "from tensorflow.keras.layers import Dense, Dropout,Input\n",
        "from sklearn.metrics import accuracy_score\n",
        "from tensorflow.keras.optimizers import Adam"
      ],
      "metadata": {
        "id": "KObwxhNEkhck"
      },
      "execution_count": 33,
      "outputs": []
    },
    {
      "cell_type": "code",
      "source": [
        "X_train_scaled.shape[1]"
      ],
      "metadata": {
        "colab": {
          "base_uri": "https://localhost:8080/"
        },
        "id": "hAGqzR8JlK0I",
        "outputId": "1b3a64b1-0945-4efe-fede-9f1784f57bb4"
      },
      "execution_count": 34,
      "outputs": [
        {
          "output_type": "execute_result",
          "data": {
            "text/plain": [
              "29"
            ]
          },
          "metadata": {},
          "execution_count": 34
        }
      ]
    },
    {
      "cell_type": "code",
      "source": [
        "class AutoEncoder(Model):\n",
        "  def __init__(self, output_units, ldim=8):\n",
        "    super().__init__()\n",
        "    self.encoder = Sequential([\n",
        "      Dense(64, activation='relu'),\n",
        "      Dropout(0.1),\n",
        "      Dense(32, activation='relu'),\n",
        "      Dropout(0.1),\n",
        "      Dense(16, activation='relu'),\n",
        "      Dropout(0.1),\n",
        "      Dense(ldim, activation='relu')\n",
        "    ])\n",
        "    self.decoder = Sequential([\n",
        "      Dense(16, activation='relu'),\n",
        "      Dropout(0.1),\n",
        "      Dense(32, activation='relu'),\n",
        "      Dropout(0.1),\n",
        "      Dense(64, activation='relu'),\n",
        "      Dropout(0.1),\n",
        "      Dense(output_units, activation='sigmoid')\n",
        "    ])\n",
        "  \n",
        "  def call(self, inputs):\n",
        "    encoded = self.encoder(inputs)\n",
        "    decoded = self.decoder(encoded)\n",
        "    return decoded#model configuration\n",
        "model = AutoEncoder(output_units=X_train_scaled.shape[1])\n",
        "model.compile(loss='msle', metrics=['mse'], optimizer='adam')\n",
        "epochs = 20\n",
        "\n",
        "history = model.fit(\n",
        "    X_train_scaled,\n",
        "    X_train_scaled,\n",
        "    epochs=epochs,\n",
        "    batch_size=512,\n",
        "    validation_data=(X_test_scaled, X_test_scaled)\n",
        ")"
      ],
      "metadata": {
        "colab": {
          "base_uri": "https://localhost:8080/"
        },
        "id": "dvj8DKXsvA7Z",
        "outputId": "b828af7e-d0de-4825-e315-b94a260b1f9b"
      },
      "execution_count": 46,
      "outputs": [
        {
          "output_type": "stream",
          "name": "stdout",
          "text": [
            "Epoch 1/20\n",
            "279/279 [==============================] - 5s 15ms/step - loss: 0.0030 - mse: 0.0066 - val_loss: 0.0011 - val_mse: 0.0024\n",
            "Epoch 2/20\n",
            "279/279 [==============================] - 3s 10ms/step - loss: 0.0012 - mse: 0.0026 - val_loss: 0.0011 - val_mse: 0.0024\n",
            "Epoch 3/20\n",
            "279/279 [==============================] - 3s 9ms/step - loss: 0.0011 - mse: 0.0024 - val_loss: 9.9335e-04 - val_mse: 0.0021\n",
            "Epoch 4/20\n",
            "279/279 [==============================] - 3s 10ms/step - loss: 0.0011 - mse: 0.0023 - val_loss: 9.6689e-04 - val_mse: 0.0021\n",
            "Epoch 5/20\n",
            "279/279 [==============================] - 3s 10ms/step - loss: 9.9707e-04 - mse: 0.0022 - val_loss: 8.6751e-04 - val_mse: 0.0019\n",
            "Epoch 6/20\n",
            "279/279 [==============================] - 3s 10ms/step - loss: 9.1963e-04 - mse: 0.0020 - val_loss: 7.9447e-04 - val_mse: 0.0017\n",
            "Epoch 7/20\n",
            "279/279 [==============================] - 3s 10ms/step - loss: 8.4323e-04 - mse: 0.0019 - val_loss: 7.1442e-04 - val_mse: 0.0016\n",
            "Epoch 8/20\n",
            "279/279 [==============================] - 3s 10ms/step - loss: 7.9668e-04 - mse: 0.0018 - val_loss: 6.7073e-04 - val_mse: 0.0015\n",
            "Epoch 9/20\n",
            "279/279 [==============================] - 3s 10ms/step - loss: 7.5658e-04 - mse: 0.0017 - val_loss: 5.9764e-04 - val_mse: 0.0013\n",
            "Epoch 10/20\n",
            "279/279 [==============================] - 3s 10ms/step - loss: 7.0874e-04 - mse: 0.0016 - val_loss: 5.4914e-04 - val_mse: 0.0012\n",
            "Epoch 11/20\n",
            "279/279 [==============================] - 3s 10ms/step - loss: 6.7317e-04 - mse: 0.0015 - val_loss: 5.2347e-04 - val_mse: 0.0012\n",
            "Epoch 12/20\n",
            "279/279 [==============================] - 3s 11ms/step - loss: 6.5286e-04 - mse: 0.0015 - val_loss: 5.0415e-04 - val_mse: 0.0011\n",
            "Epoch 13/20\n",
            "279/279 [==============================] - 3s 10ms/step - loss: 6.3732e-04 - mse: 0.0014 - val_loss: 4.8909e-04 - val_mse: 0.0011\n",
            "Epoch 14/20\n",
            "279/279 [==============================] - 3s 10ms/step - loss: 6.2497e-04 - mse: 0.0014 - val_loss: 4.7816e-04 - val_mse: 0.0011\n",
            "Epoch 15/20\n",
            "279/279 [==============================] - 3s 10ms/step - loss: 6.1508e-04 - mse: 0.0014 - val_loss: 4.7025e-04 - val_mse: 0.0011\n",
            "Epoch 16/20\n",
            "279/279 [==============================] - 3s 10ms/step - loss: 6.0539e-04 - mse: 0.0014 - val_loss: 4.5949e-04 - val_mse: 0.0010\n",
            "Epoch 17/20\n",
            "279/279 [==============================] - 3s 10ms/step - loss: 5.9782e-04 - mse: 0.0013 - val_loss: 4.5279e-04 - val_mse: 0.0010\n",
            "Epoch 18/20\n",
            "279/279 [==============================] - 3s 10ms/step - loss: 5.8840e-04 - mse: 0.0013 - val_loss: 4.4241e-04 - val_mse: 0.0010\n",
            "Epoch 19/20\n",
            "279/279 [==============================] - 3s 10ms/step - loss: 5.8132e-04 - mse: 0.0013 - val_loss: 4.3078e-04 - val_mse: 9.8591e-04\n",
            "Epoch 20/20\n",
            "279/279 [==============================] - 3s 10ms/step - loss: 5.7489e-04 - mse: 0.0013 - val_loss: 4.2453e-04 - val_mse: 9.7198e-04\n"
          ]
        }
      ]
    },
    {
      "cell_type": "code",
      "source": [
        "import matplotlib.pyplot as plt\n",
        "plt.plot(history.history['loss'])\n",
        "plt.plot(history.history['val_loss'])\n",
        "plt.xlabel('Epochs')\n",
        "plt.ylabel('MSLE Loss')\n",
        "plt.legend(['loss', 'val_loss'])\n",
        "plt.show()"
      ],
      "metadata": {
        "colab": {
          "base_uri": "https://localhost:8080/",
          "height": 279
        },
        "id": "6rxkAY2hvYBx",
        "outputId": "1c14a595-62fd-4f4d-9d24-63c4063e2c13"
      },
      "execution_count": 47,
      "outputs": [
        {
          "output_type": "display_data",
          "data": {
            "text/plain": [
              "<Figure size 432x288 with 1 Axes>"
            ],
            "image/png": "[encoded data removed]"
          },
          "metadata": {
            "needs_background": "light"
          }
        }
      ]
    },
    {
      "cell_type": "code",
      "source": [
        "import tensorflow as tf\n",
        "def find_threshold(model, x_train_scaled):\n",
        "  reconstructions = model.predict(x_train_scaled)\n",
        "  reconstruction_errors = tf.keras.losses.msle(reconstructions, x_train_scaled)\n",
        "  threshold = np.mean(reconstruction_errors.numpy()) \\\n",
        "   + np.std(reconstruction_errors.numpy())\n",
        "  return threshold\n",
        "\n",
        "def get_predictions(model, x_test_scaled, threshold):\n",
        "  predictions = model.predict(x_test_scaled)\n",
        "  errors = tf.keras.losses.msle(predictions, x_test_scaled)\n",
        "  anomaly_mask = pd.Series(errors) > threshold\n",
        "  preds = anomaly_mask.map(lambda x: 0.0 if x == True else 1.0)\n",
        "  return preds\n",
        "\n",
        "threshold = find_threshold(model, X_train_scaled)\n",
        "print(f\"Threshold: {threshold}\")\n"
      ],
      "metadata": {
        "colab": {
          "base_uri": "https://localhost:8080/"
        },
        "id": "ntwSB07Xv13q",
        "outputId": "06dae300-c144-400d-a82c-b98392d5db1d"
      },
      "execution_count": 52,
      "outputs": [
        {
          "output_type": "stream",
          "name": "stdout",
          "text": [
            "4451/4451 [==============================] - 8s 2ms/step\n",
            "Threshold: 0.0011249738850665893\n"
          ]
        }
      ]
    },
    {
      "cell_type": "code",
      "source": [
        "predictions = get_predictions(model, X_test_scaled, threshold)\n",
        "accuracy_score(predictions, y_test)"
      ],
      "metadata": {
        "colab": {
          "base_uri": "https://localhost:8080/"
        },
        "id": "iuvL_-Z0wkEf",
        "outputId": "658378a2-716a-49aa-b3e5-9917a147de3b"
      },
      "execution_count": 54,
      "outputs": [
        {
          "output_type": "stream",
          "name": "stdout",
          "text": [
            "4451/4451 [==============================] - 7s 2ms/step\n"
          ]
        },
        {
          "output_type": "execute_result",
          "data": {
            "text/plain": [
              "0.03758321395466419"
            ]
          },
          "metadata": {},
          "execution_count": 54
        }
      ]
    }
  ]
}